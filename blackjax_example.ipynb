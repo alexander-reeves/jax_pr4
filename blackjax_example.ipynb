{
 "cells": [
  {
   "cell_type": "code",
   "execution_count": null,
   "id": "dee4f85f-b119-4bb9-9179-d5ec2346cdfb",
   "metadata": {},
   "outputs": [],
   "source": [
    "import numpy as np\n"
   ]
  },
  {
   "cell_type": "markdown",
   "id": "5c3c9d8b-4d1e-42ce-8d2c-2614413d243f",
   "metadata": {},
   "source": [
    "### `blackjax` example\n",
    "\n",
    "- Here we showcase gradient-based sampling with `JAX-PR4`"
   ]
  },
  {
   "cell_type": "code",
   "execution_count": null,
   "id": "edaf3eb2-9bf5-4dfd-acf2-b720e572d1ec",
   "metadata": {},
   "outputs": [],
   "source": []
  }
 ],
 "metadata": {
  "kernelspec": {
   "display_name": "mcmc_jax_newos",
   "language": "python",
   "name": "mcmc_jax_newos"
  },
  "language_info": {
   "codemirror_mode": {
    "name": "ipython",
    "version": 3
   },
   "file_extension": ".py",
   "mimetype": "text/x-python",
   "name": "python",
   "nbconvert_exporter": "python",
   "pygments_lexer": "ipython3",
   "version": "3.11.6"
  }
 },
 "nbformat": 4,
 "nbformat_minor": 5
}
